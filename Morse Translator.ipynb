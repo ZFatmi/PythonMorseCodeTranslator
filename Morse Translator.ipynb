{
 "cells": [
  {
   "cell_type": "markdown",
   "metadata": {},
   "source": [
    "## MORSE CODE TRANSLATOR"
   ]
  },
  {
   "cell_type": "code",
   "execution_count": 1,
   "metadata": {},
   "outputs": [],
   "source": [
    "MORSE_CODE_DICT = { 'A':'.-', 'B':'-...',\n",
    "                    'C':'-.-.', 'D':'-..', 'E':'.',\n",
    "                    'F':'..-.', 'G':'--.', 'H':'....',\n",
    "                    'I':'..', 'J':'.---', 'K':'-.-',\n",
    "                    'L':'.-..', 'M':'--', 'N':'-.',\n",
    "                    'O':'---', 'P':'.--.', 'Q':'--.-',\n",
    "                    'R':'.-.', 'S':'...', 'T':'-',\n",
    "                    'U':'..-', 'V':'...-', 'W':'.--',\n",
    "                    'X':'-..-', 'Y':'-.--', 'Z':'--..',\n",
    "                    '1':'.----', '2':'..---', '3':'...--',\n",
    "                    '4':'....-', '5':'.....', '6':'-....',\n",
    "                    '7':'--...', '8':'---..', '9':'----.',\n",
    "                    '0':'-----', ', ':'--..--', '.':'.-.-.-',\n",
    "                    '?':'..--..', '/':'-..-.', '-':'-....-',\n",
    "                    '(':'-.--.', ')':'-.--.-'}"
   ]
  },
  {
   "cell_type": "code",
   "execution_count": 56,
   "metadata": {},
   "outputs": [],
   "source": [
    "class Solutions:\n",
    "    def run(self,morseToEnglish,textToTranslate):\n",
    "        \n",
    "        if morseToEnglish == False:\n",
    "            morse = ''\n",
    "            for l in textToTranslate.upper():\n",
    "                if l != ' ':\n",
    "                    morse += MORSE_CODE_DICT[l] + ' '\n",
    "                else:\n",
    "                    morse += '  '\n",
    "            return morse\n",
    "        \n",
    "        \n",
    "        elif morseToEnglish == True:\n",
    "            textToTranslate += ' '\n",
    "            english = ''  #compiles all translated text \n",
    "            text = ''     #compiles code for each word before translating\n",
    "            \n",
    "            i = 0         #counter for number of spaces\n",
    "            for l in textToTranslate:\n",
    "                if l != ' ' and i != 2:\n",
    "                    i = 0\n",
    "                    text += l\n",
    "                elif l != ' ' and i == 2:    #2 spaces without any further space returns a fault\n",
    "                    english = \"Incorrect morse code!\"\n",
    "                    break\n",
    "                else:\n",
    "                    i += 1          \n",
    "                    if i == 3:   # when space counter reaches 3 spaces, it translates to a single space in english\n",
    "                        english += ' ' \n",
    "                    elif i == 1:\n",
    "                        english += list(MORSE_CODE_DICT.keys())[list(MORSE_CODE_DICT.values()).index(text)]\n",
    "                        text = ''\n",
    "                    else:\n",
    "                        pass\n",
    "            return english\n",
    "            "
   ]
  },
  {
   "cell_type": "code",
   "execution_count": 58,
   "metadata": {
    "scrolled": true
   },
   "outputs": [
    {
     "name": "stdout",
     "output_type": "stream",
     "text": [
      ".... . .-.. .-.. --- .-.-.-   .... --- .--   .- .-. .   -.-- --- ..- ..--.. \n"
     ]
    }
   ],
   "source": [
    "print(Solutions().run(False,\"Hello. How are you?\"))      #Coding example"
   ]
  },
  {
   "cell_type": "code",
   "execution_count": 59,
   "metadata": {},
   "outputs": [
    {
     "name": "stdout",
     "output_type": "stream",
     "text": [
      "HELLO. HOW ARE YOU?\n"
     ]
    }
   ],
   "source": [
    "print(Solutions().run(True,\".... . .-.. .-.. --- .-.-.-   .... --- .--   .- .-. .   -.-- --- ..- ..--..\"))  #Decoding example"
   ]
  },
  {
   "cell_type": "code",
   "execution_count": 60,
   "metadata": {},
   "outputs": [
    {
     "name": "stdout",
     "output_type": "stream",
     "text": [
      "Incorrect morse code!\n"
     ]
    }
   ],
   "source": [
    "print(Solutions().run(True,\".... . .-.. .-.. --- .-.-.-   .... --- .--  .- .-. .   -.-- --- ..- ..--..\")) \n",
    "# having 2 spaces '  ' is not allowed in morse code; codes with '  ' returns an error message =='Incorrect morse code!'\n",
    "# morse code only allows 1 ' ' or 3 '   ' spaces, 1 space between letters, 3 spaces between words. "
   ]
  }
 ],
 "metadata": {
  "kernelspec": {
   "display_name": "Python 3.7.3 64-bit ('base': conda)",
   "language": "python",
   "name": "python37364bitbaseconda3d71bc0f7d7d4b16b0f9e0c659f8601a"
  },
  "language_info": {
   "codemirror_mode": {
    "name": "ipython",
    "version": 3
   },
   "file_extension": ".py",
   "mimetype": "text/x-python",
   "name": "python",
   "nbconvert_exporter": "python",
   "pygments_lexer": "ipython3",
   "version": "3.7.3"
  }
 },
 "nbformat": 4,
 "nbformat_minor": 2
}
